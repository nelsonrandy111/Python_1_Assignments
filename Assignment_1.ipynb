{
 "cells": [
  {
   "cell_type": "markdown",
   "metadata": {},
   "source": [
    "Excersize 1"
   ]
  },
  {
   "cell_type": "code",
   "execution_count": 1,
   "metadata": {},
   "outputs": [
    {
     "name": "stdout",
     "output_type": "stream",
     "text": [
      "Hello, Python!\n"
     ]
    }
   ],
   "source": [
    "x = 'Hello, Python!'\n",
    "print(x)"
   ]
  },
  {
   "cell_type": "markdown",
   "metadata": {},
   "source": [
    "Excersize 2"
   ]
  },
  {
   "cell_type": "code",
   "execution_count": 2,
   "metadata": {},
   "outputs": [
    {
     "name": "stdout",
     "output_type": "stream",
     "text": [
      "12\n",
      "-4\n",
      "32\n",
      "0.5\n"
     ]
    }
   ],
   "source": [
    "a = 4\n",
    "b = 8\n",
    "print(a + b)\n",
    "print(a - b)\n",
    "print(a * b)\n",
    "print(a / b)"
   ]
  },
  {
   "cell_type": "markdown",
   "metadata": {},
   "source": [
    "Excersize 3"
   ]
  },
  {
   "cell_type": "code",
   "execution_count": 3,
   "metadata": {},
   "outputs": [
    {
     "name": "stdout",
     "output_type": "stream",
     "text": [
      "Hello, Randy!\n"
     ]
    }
   ],
   "source": [
    "name = 'Randy'\n",
    "print(f'Hello, {name}!')"
   ]
  },
  {
   "cell_type": "markdown",
   "metadata": {},
   "source": [
    "Excersize 4"
   ]
  },
  {
   "cell_type": "code",
   "execution_count": 4,
   "metadata": {},
   "outputs": [
    {
     "name": "stdout",
     "output_type": "stream",
     "text": [
      "['Penn State', 'Pitt', 'UPenn', 'Seton Hill', 'Temple']\n",
      "Penn State, Temple\n"
     ]
    }
   ],
   "source": [
    "universities = ['Penn State','Pitt','UPenn','Seton Hill', 'Temple']\n",
    "print(universities)\n",
    "print(f'{universities[0]}, {universities[-1]}')"
   ]
  },
  {
   "cell_type": "markdown",
   "metadata": {},
   "source": [
    "Excersize 5"
   ]
  },
  {
   "cell_type": "code",
   "execution_count": 5,
   "metadata": {},
   "outputs": [
    {
     "name": "stdout",
     "output_type": "stream",
     "text": [
      "name: Randy\n",
      "age: 23\n",
      "grade: A\n"
     ]
    }
   ],
   "source": [
    "student = {'name':'Randy', 'age':'23', 'grade':'A'}\n",
    "for key, value in student.items():\n",
    "    print(f'{key}: {value}')"
   ]
  },
  {
   "cell_type": "markdown",
   "metadata": {},
   "source": [
    "Excersize 6"
   ]
  },
  {
   "cell_type": "code",
   "execution_count": 6,
   "metadata": {},
   "outputs": [
    {
     "name": "stdout",
     "output_type": "stream",
     "text": [
      "Coordinates: (4, 8)\n",
      "x = 4, y = 8\n"
     ]
    }
   ],
   "source": [
    "coordinates = (4,8)\n",
    "print(f'Coordinates: {coordinates}')\n",
    "x = coordinates[0]\n",
    "y = coordinates[1]\n",
    "print(f'x = {x}, y = {y}')"
   ]
  },
  {
   "cell_type": "markdown",
   "metadata": {},
   "source": [
    "Excersize 7"
   ]
  },
  {
   "cell_type": "code",
   "execution_count": 7,
   "metadata": {},
   "outputs": [
    {
     "name": "stdout",
     "output_type": "stream",
     "text": [
      "{'yellow', 'green', 'red', 'blue'}\n",
      "{'yellow', 'red', 'blue'}\n",
      "{'yellow', 'blue', 'red', 'tan', 'white'}\n"
     ]
    }
   ],
   "source": [
    "colors = {'red','green','blue'}\n",
    "colors.add('yellow')\n",
    "colors.add('red')\n",
    "print(colors)\n",
    "colors.remove('green')\n",
    "print(colors)\n",
    "light_colors = {'white','tan'}\n",
    "colors.update(light_colors)\n",
    "print(colors)"
   ]
  },
  {
   "cell_type": "markdown",
   "metadata": {},
   "source": [
    "Excersize 8"
   ]
  },
  {
   "cell_type": "code",
   "execution_count": 16,
   "metadata": {},
   "outputs": [
    {
     "name": "stdout",
     "output_type": "stream",
     "text": [
      "Your value is zero.\n"
     ]
    }
   ],
   "source": [
    "value = input('Input an number:')\n",
    "while True:\n",
    "    try:\n",
    "        value = float(value)\n",
    "        break\n",
    "    except:\n",
    "        value = input('Enter only a numeric value. Try again:')\n",
    "\n",
    "if value > 0:\n",
    "    print('Your value is positive.')\n",
    "elif value < 0:\n",
    "    print('Your value is negative.')\n",
    "else:\n",
    "    print('Your value is zero.')\n"
   ]
  },
  {
   "cell_type": "markdown",
   "metadata": {},
   "source": [
    "Excersize 9"
   ]
  },
  {
   "cell_type": "code",
   "execution_count": 19,
   "metadata": {},
   "outputs": [
    {
     "name": "stdout",
     "output_type": "stream",
     "text": [
      "1\n",
      "2\n",
      "3\n",
      "4\n",
      "5\n"
     ]
    }
   ],
   "source": [
    "numbers = [1,2,3,4,5]\n",
    "for number in numbers:\n",
    "    print(number)"
   ]
  },
  {
   "cell_type": "markdown",
   "metadata": {},
   "source": [
    "Excersize 10"
   ]
  },
  {
   "cell_type": "code",
   "execution_count": 22,
   "metadata": {},
   "outputs": [
    {
     "name": "stdout",
     "output_type": "stream",
     "text": [
      "1\n",
      "2\n",
      "3\n",
      "4\n",
      "5\n"
     ]
    }
   ],
   "source": [
    "value = 1\n",
    "while value <= 5:\n",
    "    print(value)\n",
    "    value += 1"
   ]
  },
  {
   "cell_type": "markdown",
   "metadata": {},
   "source": [
    "Excersize 11"
   ]
  },
  {
   "cell_type": "code",
   "execution_count": 3,
   "metadata": {},
   "outputs": [
    {
     "name": "stdout",
     "output_type": "stream",
     "text": [
      "Excellent!\n"
     ]
    }
   ],
   "source": [
    "grade = input('Input a grade: (A-F)')\n",
    "grades = ['A','B','C','D','F']\n",
    "while grade not in grades:\n",
    "    grade = input('Only input a capital A, B, C, D, or F: ')\n",
    "match grade:\n",
    "    case 'A':\n",
    "        print('Excellent!')\n",
    "    case 'B':\n",
    "        print('Good Job!')\n",
    "    case 'C':\n",
    "        print('Fair.')\n",
    "    case 'D':\n",
    "        print('Needs improvement.')\n",
    "    case 'F':\n",
    "        print('Failing.')"
   ]
  },
  {
   "cell_type": "markdown",
   "metadata": {},
   "source": [
    "Excersize 12"
   ]
  },
  {
   "cell_type": "code",
   "execution_count": 4,
   "metadata": {},
   "outputs": [
    {
     "name": "stdout",
     "output_type": "stream",
     "text": [
      "Hello, Randy\n"
     ]
    }
   ],
   "source": [
    "def greet(name):\n",
    "    print(f'Hello, {name}')\n",
    "greet('Randy')"
   ]
  },
  {
   "cell_type": "markdown",
   "metadata": {},
   "source": [
    "Excersize 13"
   ]
  },
  {
   "cell_type": "code",
   "execution_count": 9,
   "metadata": {},
   "outputs": [
    {
     "name": "stdout",
     "output_type": "stream",
     "text": [
      "144\n",
      "0\n",
      "2.25\n",
      "0.16000000000000003\n"
     ]
    }
   ],
   "source": [
    "def square(number):\n",
    "    sq = number*number\n",
    "    print(sq)\n",
    "square(12)\n",
    "square(0)\n",
    "square(1.5)\n",
    "square(-0.4)"
   ]
  },
  {
   "cell_type": "markdown",
   "metadata": {},
   "source": [
    "Excersize 14"
   ]
  },
  {
   "cell_type": "code",
   "execution_count": 10,
   "metadata": {},
   "outputs": [
    {
     "name": "stdout",
     "output_type": "stream",
     "text": [
      "28\n",
      "8\n"
     ]
    }
   ],
   "source": [
    "def multiply(a,b = 1):\n",
    "    product = a*b\n",
    "    print(product)\n",
    "multiply(4,7)\n",
    "multiply(8)"
   ]
  },
  {
   "cell_type": "markdown",
   "metadata": {},
   "source": [
    "Excersize 15"
   ]
  },
  {
   "cell_type": "code",
   "execution_count": 15,
   "metadata": {},
   "outputs": [
    {
     "name": "stdout",
     "output_type": "stream",
     "text": [
      "[1, 4, 9, 16, 25, 36, 49, 64, 81, 100]\n"
     ]
    }
   ],
   "source": [
    "numbers = list(range(1,11))\n",
    "sq_nums = [num*num for num in numbers]\n",
    "print(sq_nums)"
   ]
  },
  {
   "cell_type": "markdown",
   "metadata": {},
   "source": [
    "Excersize 16"
   ]
  },
  {
   "cell_type": "code",
   "execution_count": 17,
   "metadata": {},
   "outputs": [
    {
     "name": "stdout",
     "output_type": "stream",
     "text": [
      "Randy's average grade is 94.75.\n",
      "Luke's average grade is 94.86666666666667.\n",
      "Josh's average grade is 77.6.\n"
     ]
    }
   ],
   "source": [
    "student_grades = {'Randy':[100,95.5,88.75],'Luke':[93,94.6,97],'Josh':[75.4,80,80,75]}\n",
    "def avg_grade(students):\n",
    "    for student, grades in students.items():\n",
    "        avg = sum(grades) / len(grades)\n",
    "        print(f\"{student}'s average grade is {avg}.\")\n",
    "avg_grade(student_grades)\n",
    "        \n"
   ]
  },
  {
   "cell_type": "markdown",
   "metadata": {},
   "source": [
    "Excersize 17"
   ]
  },
  {
   "cell_type": "code",
   "execution_count": 22,
   "metadata": {},
   "outputs": [
    {
     "data": {
      "text/plain": [
       "-1.0"
      ]
     },
     "execution_count": 22,
     "metadata": {},
     "output_type": "execute_result"
    }
   ],
   "source": [
    "def calculate(num_1,num_2,opp):\n",
    "    if opp == '+':\n",
    "        return(num_1 + num_2)\n",
    "    elif opp == '-':\n",
    "        return(num_1 - num_2)\n",
    "    elif opp == '*':\n",
    "        return(num_1 * num_2)\n",
    "    elif opp == '/':\n",
    "        if num_2 == 0:\n",
    "            return('You cannot divide by 0.')\n",
    "        else:\n",
    "            return(num_1 / num_2)\n",
    "\n",
    "opp_list = ['+','-','*','/']\n",
    "\n",
    "num_1 = input('Input the first number: ')\n",
    "while True:\n",
    "    try:\n",
    "        num_1 = float(num_1)\n",
    "        break\n",
    "    except:\n",
    "        num_1 = input('Enter only a numeric value. Try again:') \n",
    "\n",
    "num_2 = input('Input the second number: ')\n",
    "while True:\n",
    "    try:\n",
    "        num_2 = float(num_2)\n",
    "        break\n",
    "    except:\n",
    "        num_2 = input('Enter only a numeric value. Try again:')\n",
    "\n",
    "opp = input(f'Input just the operator sign for which opperation you would like to complete with {num_1} and {num_2}: ')\n",
    "while opp not in opp_list:\n",
    "    opp = input('Only input +, -, *, or /. Try again: ')\n",
    "\n",
    "calculate(num_1,num_2,opp)\n"
   ]
  }
 ],
 "metadata": {
  "kernelspec": {
   "display_name": "Python 3",
   "language": "python",
   "name": "python3"
  },
  "language_info": {
   "codemirror_mode": {
    "name": "ipython",
    "version": 3
   },
   "file_extension": ".py",
   "mimetype": "text/x-python",
   "name": "python",
   "nbconvert_exporter": "python",
   "pygments_lexer": "ipython3",
   "version": "3.12.4"
  }
 },
 "nbformat": 4,
 "nbformat_minor": 2
}
