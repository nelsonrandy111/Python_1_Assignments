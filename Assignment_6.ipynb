{
 "cells": [
  {
   "cell_type": "markdown",
   "metadata": {},
   "source": [
    "## Netflix Data Exercises"
   ]
  },
  {
   "cell_type": "code",
   "execution_count": null,
   "metadata": {},
   "outputs": [],
   "source": [
    "import pandas as pd\n",
    "\n",
    "# Load the dataset\n",
    "netflix_data = pd.read_csv('netflix_titles.csv')\n",
    "\n",
    "results = {}\n",
    "\n",
    "# Calculate the number of missing ratings\n",
    "results['missing_ratings'] = netflix_data['rating'].isna().sum()\n",
    "\n",
    "results['films_2021_user_country'] = (\n",
    "    netflix_data.query(\"release_year == 2021 and country == 'United States'\")\n",
    "    .shape[0]\n",
    ")\n",
    "\n",
    "# Count movies in 2020 with no missing values\n",
    "results['movies_2020_full_info'] = (\n",
    "    netflix_data.query(\"release_year == 2020\")\n",
    "    .dropna()\n",
    "    .shape[0]\n",
    ")\n",
    "\n",
    "results['year_with_most_titles'] = (\n",
    "    netflix_data['release_year']\n",
    "    .value_counts()\n",
    "    .idxmax()\n",
    ")\n",
    "\n",
    "results['average_releases_from_2010'] = (\n",
    "    netflix_data.query(\"release_year >= 2010\")\n",
    "    ['release_year']\n",
    "    .value_counts()\n",
    "    .mean()\n",
    ")\n",
    "\n",
    "print(\"Netflix Data Analysis Results:\")\n",
    "for key, value in results.items():\n",
    "    print(f\"{key.replace('_', ' ').capitalize()}: {value}\")\n"
   ]
  },
  {
   "cell_type": "markdown",
   "metadata": {},
   "source": [
    "## Titanic Data Exercises"
   ]
  },
  {
   "cell_type": "code",
   "execution_count": null,
   "metadata": {},
   "outputs": [],
   "source": [
    "titanic_file_path = 'train_and_test2.csv' \n",
    "titanic_data = pd.read_csv(titanic_file_path)\n",
    "titanic_data\n",
    "# Get all column names\n",
    "columns = titanic_data.columns.tolist()\n",
    "\n",
    "# Print the column names\n",
    "print(\"Column Names:\")\n",
    "print(columns)"
   ]
  },
  {
   "cell_type": "code",
   "execution_count": null,
   "metadata": {},
   "outputs": [],
   "source": [
    "# Calculate gender-based survival percentages\n",
    "gender_survival = df.groupby('Sex')['2urvived'].mean() * 100\n",
    "\n",
    "# Display the result\n",
    "print(\"Gender-Based Survival Percentage:\")\n",
    "print(gender_survival)\n",
    "\n",
    "# Calculate survival percentage grouped by gender and class\n",
    "gender_class_survival = df.groupby(['Sex', 'Pclass'])['2urvived'].mean() * 100\n",
    "\n",
    "# Display the result\n",
    "print(\"\\nSurvival Percentage Grouped by Gender and Class:\")\n",
    "print(gender_class_survival)\n",
    "\n",
    "# Optional: Convert to DataFrame for a more tabular display\n",
    "gender_class_survival_df = gender_class_survival.reset_index(name='Survival Percentage')\n",
    "print(\"\\nTabular Format:\")\n",
    "print(gender_class_survival_df)"
   ]
  }
 ],
 "metadata": {
  "kernelspec": {
   "display_name": "base",
   "language": "python",
   "name": "python3"
  },
  "language_info": {
   "codemirror_mode": {
    "name": "ipython",
    "version": 3
   },
   "file_extension": ".py",
   "mimetype": "text/x-python",
   "name": "python",
   "nbconvert_exporter": "python",
   "pygments_lexer": "ipython3",
   "version": "3.12.4"
  }
 },
 "nbformat": 4,
 "nbformat_minor": 2
}
