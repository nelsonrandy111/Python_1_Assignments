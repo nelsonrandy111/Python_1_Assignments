{
 "cells": [
  {
   "cell_type": "markdown",
   "metadata": {},
   "source": [
    "### Exercise\n",
    "\n",
    "\n",
    "Given a zip file with a subfolder with multiple annotations, where the name convention for each one of them is: \n",
    "\n",
    "{DATE}_{TIME}_SN{SATELLITE_NUMBER}_QUICKVIEW_VISUAL_{VERSION}_{UNIQUE_REGION}.txt\n",
    "\n",
    "where:\n",
    "\n",
    "- DATE expressed as YYYYMMDD (year, month and day), e.g. 20241201, 20230321 ...\n",
    "- TIME expressed as HHMMSS (hour, minutes and seconds), e.g. 2134307\n",
    "- SATELLITE_NUMBER an integer that represents the satellite number.\n",
    "- VERSION provides the version of the pipeline, e.g. \"0_1_2\", \"1_3_1\" ...\n",
    "- UNIQUE_REGION provides a unique location in the form of a string, e.g SATL-2KM-10N_552_4164\n",
    "\n",
    "Find out the following thing about your data:\n",
    "\n",
    "1. How many files the annotations folder has.\n",
    "2. How many of them follow the name convention expressed above.\n",
    "3. How many of annotations you have per month and year. Which month has more annotation files.\n",
    "4. Create a new annotations folder with multiple folders corresponding to a month.\n",
    "5. Print all the annotations from the most recent to the oldest one. \n",
    "6. How many different satellites there are, how many annotations we have per satellite number, and which one was used in the most recent annotation file. \n",
    "7. How many unique regions there are.\n",
    "\n",
    "some tips:\n",
    "- str class has a method called split, you can use it to get each field per annotation.\n",
    "- you can use sort from numpy on strings."
   ]
  },
  {
   "cell_type": "markdown",
   "metadata": {},
   "source": [
    "Exercise 1"
   ]
  },
  {
   "cell_type": "code",
   "execution_count": 22,
   "metadata": {},
   "outputs": [
    {
     "data": {
      "text/plain": [
       "206"
      ]
     },
     "execution_count": 22,
     "metadata": {},
     "output_type": "execute_result"
    }
   ],
   "source": [
    "import os\n",
    "\n",
    "path = 'C:\\\\Users\\\\nelso\\\\OneDrive\\\\Desktop\\\\ESADE\\\\Term_1\\\\Python_1\\\\session_4\\\\annotations'\n",
    "annotations = os.listdir(path)\n",
    "total_files = len(annotations)\n",
    "total_files"
   ]
  },
  {
   "cell_type": "markdown",
   "metadata": {},
   "source": [
    "Exercise 2"
   ]
  },
  {
   "cell_type": "code",
   "execution_count": 23,
   "metadata": {},
   "outputs": [
    {
     "data": {
      "text/plain": [
       "194"
      ]
     },
     "execution_count": 23,
     "metadata": {},
     "output_type": "execute_result"
    }
   ],
   "source": [
    "valid_files = 0\n",
    "\n",
    "for file in annotations:\n",
    "    parts = file.split('_')\n",
    "    if len(parts) == 11 and parts[0].isdigit() and len(parts[0]) == 8 and \\\n",
    "       parts[1].isdigit() and len(parts[1]) == 6 and \\\n",
    "       parts[2].startswith('SN') and parts[2][2:].isdigit() and \\\n",
    "       parts[3] == 'QUICKVIEW' and parts[4] == 'VISUAL':\n",
    "        valid_files += 1\n",
    "valid_files"
   ]
  },
  {
   "cell_type": "markdown",
   "metadata": {},
   "source": [
    "Exercise 3"
   ]
  },
  {
   "cell_type": "code",
   "execution_count": 25,
   "metadata": {},
   "outputs": [
    {
     "name": "stdout",
     "output_type": "stream",
     "text": [
      "202401: 27 annotations\n",
      "202402: 45 annotations\n",
      "202403: 17 annotations\n",
      "202404: 37 annotations\n",
      "202405: 28 annotations\n",
      "202406: 52 annotations\n",
      "Most annotations: 202406, 52 files\n"
     ]
    }
   ],
   "source": [
    "year_month_dict = {}\n",
    "\n",
    "for file in annotations:\n",
    "    if len(file) >= 8 and file[:8].isdigit():\n",
    "        year_month = file[:6]  # YYYYMM\n",
    "        if year_month in year_month_dict:\n",
    "            year_month_dict[year_month] += 1\n",
    "        else:\n",
    "            year_month_dict[year_month] = 1\n",
    "\n",
    "# Print the number of annotations per month/year\n",
    "for ym, count in year_month_dict.items():\n",
    "    print(f\"{ym}: {count} annotations\")\n",
    "\n",
    "# Find the month with the most annotations\n",
    "most_common_month = max(year_month_dict, key=year_month_dict.get)\n",
    "print(f\"Most annotations: {most_common_month}, {year_month_dict[most_common_month]} files\")"
   ]
  },
  {
   "cell_type": "markdown",
   "metadata": {},
   "source": [
    "Exersise 4"
   ]
  },
  {
   "cell_type": "code",
   "execution_count": 26,
   "metadata": {},
   "outputs": [],
   "source": [
    "import shutil\n",
    "import os\n",
    "\n",
    "new_folder = r'C:\\Users\\nelso\\OneDrive\\Desktop\\ESADE\\Term_1\\Python_1\\session_4\\monthly_annotations'\n",
    "os.makedirs(new_folder, exist_ok=True)\n",
    "\n",
    "for file in annotations:\n",
    "    if len(file) >= 8 and file[:8].isdigit():\n",
    "        year_month = file[:6]  # YYYYMM\n",
    "        month_folder = os.path.join(new_folder, year_month)\n",
    "        os.makedirs(month_folder, exist_ok=True)\n",
    "        shutil.copy(os.path.join(path, file), os.path.join(month_folder, file))"
   ]
  },
  {
   "cell_type": "markdown",
   "metadata": {},
   "source": [
    "Exercise 5"
   ]
  },
  {
   "cell_type": "code",
   "execution_count": 27,
   "metadata": {},
   "outputs": [
    {
     "name": "stdout",
     "output_type": "stream",
     "text": [
      "20240623_215120_SN29_QUICKVIEW_VISUAL_1_7_0_SATL-2KM-10N_596_4134.txt\n",
      "20240623_215102_SN43_QUICKVIEW_VISUAL_1_7_0_SATL-2KM-11N_384_3750.txt\n",
      "20240623_193704_SN27_QUICKVIEW_VISUAL_1_7_0_SATL-2KM-11N_566_3734.txt\n",
      "20240619_215556_SN29_QUICKVIEW_VISUAL_1_7_0_SATL-2KM-10N_742_4460.txt\n",
      "20240619_185757_SN24_QUICKVIEW_VISUAL_1_7_0_SATL-2KM-11N_528_3700.txt\n",
      "20240619_052401_SN30_QUICKVIEW_VISUAL_1_7_0_SATL-2KM-52N_368_4336.txt\n",
      "20240618_215539_SN31_QUICKVIEW_VISUAL_1_7_0_SATL-2KM-11N_458_3756.txt\n",
      "20240618_215539_SN31_QUICKVIEW_VISUAL_1_7_0_SATL-2KM-11N_452_3740.txt\n",
      "20240618_193146_SN27_QUICKVIEW_VISUAL_1_7_0_SATL-2KM-11N_530_3682.txt\n",
      "20240617_211350_SN29_QUICKVIEW_VISUAL_1_7_0_SATL-2KM-11N_724_3614.txt\n",
      "20240617_184443_SN24_QUICKVIEW_VISUAL_1_7_0_SATL-2KM-11N_702_3566.txt\n",
      "20240617_052859_SN29_QUICKVIEW_VISUAL_1_7_0_SATL-2KM-51N_730_4348.txt\n",
      "20240616_213053_SN30_QUICKVIEW_VISUAL_1_7_0_SATL-2KM-11N_460_3792.txt\n",
      "20240616_213047_SN30_QUICKVIEW_VISUAL_1_7_0_SATL-2KM-11N_466_3828.txt\n",
      "20240616_213047_SN30_QUICKVIEW_VISUAL_1_7_0_SATL-2KM-11N_466_3826.txt\n",
      "20240616_213047_SN30_QUICKVIEW_VISUAL_1_7_0_SATL-2KM-11N_464_3830.txt\n",
      "20240616_213047_SN30_QUICKVIEW_VISUAL_1_7_0_SATL-2KM-11N_464_3828.txt\n",
      "20240616_102144_SN28_QUICKVIEW_VISUAL_1_7_0_SATL-2KM-39N_560_2792.txt\n",
      "20240616_102144_SN28_QUICKVIEW_VISUAL_1_7_0_SATL-2KM-39N_558_2794.txt\n",
      "20240616_102144_SN28_QUICKVIEW_VISUAL_1_7_0_SATL-2KM-39N_556_2794.txt\n",
      "20240616_081345_SN27_QUICKVIEW_VISUAL_1_7_0_SATL-2KM-39N_562_2794.txt\n",
      "20240616_081345_SN27_QUICKVIEW_VISUAL_1_7_0_SATL-2KM-39N_562_2792.txt\n",
      "20240616_081345_SN27_QUICKVIEW_VISUAL_1_7_0_SATL-2KM-39N_560_2794.txt\n",
      "20240616_081345_SN27_QUICKVIEW_VISUAL_1_7_0_SATL-2KM-39N_560_2792.txt\n",
      "20240615_173631_SN33_QUICKVIEW_VISUAL_1_7_0_SATL-2KM-11N_546_3742.txt\n",
      "20240614_221436_SN31_QUICKVIEW_VISUAL_1_7_0_SATL-2KM-10N_558_4184.txt\n",
      "20240613_214203_SN43_QUICKVIEW_VISUAL_1_7_0_SATL-2KM-11N_384_3750.txt\n",
      "20240613_192217_SN26_QUICKVIEW_VISUAL_1_7_0_SATL-2KM-10N_560_4178.txt\n",
      "20240613_053340_SN29_QUICKVIEW_VISUAL_1_7_0_SATL-2KM-51N_730_4342.txt\n",
      "20240613_053340_SN29_QUICKVIEW_VISUAL_1_7_0_SATL-2KM-51N_728_4342.txt\n",
      "20240612_185419_SN24_QUICKVIEW_VISUAL_1_7_0_SATL-2KM-11N_554_3610.txt\n",
      "20240612_185400_SN24_QUICKVIEW_VISUAL_1_7_0_SATL-2KM-11N_578_3722.txt\n",
      "20240612_185400_SN24_QUICKVIEW_VISUAL_1_7_0_SATL-2KM-11N_576_3720.txt\n",
      "20240612_185400_SN24_QUICKVIEW_VISUAL_1_7_0_SATL-2KM-11N_574_3714.txt\n",
      "20240612_053829_SN28_QUICKVIEW_VISUAL_1_7_0_SATL-2KM-51N_688_4420.txt\n",
      "20240612_053829_SN28_QUICKVIEW_VISUAL_1_7_0_SATL-2KM-51N_686_4422.txt\n",
      "20240611_215323_SN30_QUICKVIEW_VISUAL_1_7_0_SATL-2KM-10N_702_3948.txt\n",
      "20240611_025943_SN26_QUICKVIEW_VISUAL_1_7_0_SATL-2KM-51N_748_4366.txt\n",
      "20240611_025943_SN26_QUICKVIEW_VISUAL_1_7_0_SATL-2KM-51N_748_4364.txt\n",
      "20240610_191018_SN26_QUICKVIEW_VISUAL_1_7_0_SATL-2KM-11N_384_3750.txt\n",
      "20240609_214259_SN30_QUICKVIEW_VISUAL_1_7_0_SATL-2KM-11N_262_4052.txt\n",
      "20240609_191959_SN27_QUICKVIEW_VISUAL_1_7_0_SATL-2KM-11N_702_3540.txt\n",
      "20240609_191744_SN24_QUICKVIEW_VISUAL_1_7_0_SATL-2KM-10N_564_4194.txt\n",
      "20240608_214614_SN29_QUICKVIEW_VISUAL_1_7_0_SATL-2KM-11N_248_4068.txt\n",
      "20240607_200250_SN27_QUICKVIEW_VISUAL_1_7_0_SATL-2KM-10N_554_4172.txt\n",
      "20240606_180251_SN33_QUICKVIEW_VISUAL_1_7_0_SATL-2KM-10N_556_4180.txt\n",
      "20240605_212717_SN29_QUICKVIEW_VISUAL_1_7_0_SATL-2KM-11N_718_3608.txt\n",
      "20240604_214955_SN29_QUICKVIEW_VISUAL_1_7_0_SATL-2KM-10N_594_4136.txt\n",
      "20240603_215348_SN28_QUICKVIEW_VISUAL_1_6_0_SATL-2KM-11N_346_3786.txt\n",
      "20240603_215226_SN28_QUICKVIEW_VISUAL_1_6_0_SATL-2KM-11N_248_4068.txt\n",
      "20240602_215203_SN30_QUICKVIEW_VISUAL_1_6_0_SATL-2KM-10N_714_3948.txt\n",
      "20240602_215203_SN30_QUICKVIEW_VISUAL_1_6_0_SATL-2KM-10N_712_3948.txt\n",
      "20240528_191604_SN24_QUICKVIEW_VISUAL_1_6_0_SATL-2KM-11N_344_3836.txt\n",
      "20240528_191448_SN24_QUICKVIEW_VISUAL_1_6_0_SATL-2KM-11N_248_4068.txt\n",
      "20240524_213504_SN29_QUICKVIEW_VISUAL_1_6_0_SATL-2KM-11N_380_3724.txt\n",
      "20240524_213504_SN29_QUICKVIEW_VISUAL_1_6_0_SATL-2KM-11N_378_3724.txt\n",
      "20240521_101252_SN43_QUICKVIEW_VISUAL_1_6_0_SATL-2KM-39N_558_2796.txt\n",
      "20240521_101252_SN43_QUICKVIEW_VISUAL_1_6_0_SATL-2KM-39N_556_2792.txt\n",
      "20240521_052621_SN43_QUICKVIEW_VISUAL_1_6_0_SATL-2KM-51N_730_4342.txt\n",
      "20240520_194539_SN27_QUICKVIEW_VISUAL_1_5_0_SATL-2KM-10N_638_4282.txt\n",
      "20240520_194539_SN27_QUICKVIEW_VISUAL_1_5_0_SATL-2KM-10N_638_4280.txt\n",
      "20240519_214917_SN31_QUICKVIEW_VISUAL_1_5_0_SATL-2KM-11N_500_3602.txt\n",
      "20240519_214917_SN31_QUICKVIEW_VISUAL_1_5_0_SATL-2KM-11N_500_3600.txt\n",
      "20240519_214917_SN31_QUICKVIEW_VISUAL_1_5_0_SATL-2KM-11N_500_3598.txt\n",
      "20240519_191838_SN27_QUICKVIEW_VISUAL_1_5_0_SATL-2KM-11N_718_3608.txt\n",
      "20240519_184534_SN24_QUICKVIEW_VISUAL_1_5_0_SATL-2KM-11N_658_3700.txt\n",
      "20240516_211630_SN28_QUICKVIEW_VISUAL_1_5_0_SATL-2KM-11N_716_3848.txt\n",
      "20240516_190328_SN24_QUICKVIEW_VISUAL_1_5_0_SATL-2KM-11N_262_4052.txt\n",
      "20240514_052716_SN43_QUICKVIEW_VISUAL_1_5_0_SATL-2KM-51N_730_4342.txt\n",
      "20240513_212022_SN29_QUICKVIEW_VISUAL_1_5_0_SATL-2KM-11N_630_3742.txt\n",
      "20240510_191914_SN27_QUICKVIEW_VISUAL_1_5_0_SATL-2KM-11N_712_3566.txt\n",
      "20240510_191908_SN27_QUICKVIEW_VISUAL_1_5_0_SATL-2KM-11N_718_3608.txt\n",
      "20240509_212336_SN29_QUICKVIEW_VISUAL_1_5_0_SATL-2KM-11N_706_3778.txt\n",
      "20240509_193206_SN26_QUICKVIEW_VISUAL_1_5_0_SATL-2KM-10N_562_4196.txt\n",
      "20240508_194502_SN27_QUICKVIEW_VISUAL_1_5_0_SATL-2KM-11N_264_4022.txt\n",
      "20240508_194502_SN27_QUICKVIEW_VISUAL_1_5_0_SATL-2KM-11N_262_4022.txt\n",
      "20240507_191326_SN27_QUICKVIEW_VISUAL_1_5_0_SATL-2KM-11N_718_3608.txt\n",
      "20240506_213507_SN43_QUICKVIEW_VISUAL_1_5_0_SATL-2KM-11N_384_3750.txt\n",
      "20240506_192008_SN26_QUICKVIEW_VISUAL_1_5_0_SATL-2KM-10N_562_4178.txt\n",
      "20240503_214759_SN28_QUICKVIEW_VISUAL_1_5_0_SATL-2KM-11N_376_3724.txt\n",
      "20240428_215557_SN43_QUICKVIEW_VISUAL_1_5_0_SATL-2KM-10N_726_3862.txt\n",
      "20240428_215426_SN43_QUICKVIEW_VISUAL_1_5_0_SATL-2KM-10N_634_4282.txt\n",
      "20240428_215426_SN43_QUICKVIEW_VISUAL_1_5_0_SATL-2KM-10N_630_4264.txt\n",
      "20240428_215426_SN43_QUICKVIEW_VISUAL_1_5_0_SATL-2KM-10N_630_4262.txt\n",
      "20240428_191026_SN24_QUICKVIEW_VISUAL_1_5_0_SATL-2KM-11N_380_3722.txt\n",
      "20240427_221308_SN31_QUICKVIEW_VISUAL_1_5_0_SATL-2KM-10N_722_3848.txt\n",
      "20240426_215224_SN29_QUICKVIEW_VISUAL_1_5_0_SATL-2KM-11N_244_3818.txt\n",
      "20240423_190101_SN26_QUICKVIEW_VISUAL_1_5_0_SATL-2KM-11N_418_3872.txt\n",
      "20240423_190101_SN26_QUICKVIEW_VISUAL_1_5_0_SATL-2KM-11N_418_3864.txt\n",
      "20240423_190101_SN26_QUICKVIEW_VISUAL_1_5_0_SATL-2KM-11N_418_3862.txt\n",
      "20240423_190101_SN26_QUICKVIEW_VISUAL_1_5_0_SATL-2KM-11N_418_3860.txt\n",
      "20240423_190101_SN26_QUICKVIEW_VISUAL_1_5_0_SATL-2KM-11N_416_3864.txt\n",
      "20240423_190101_SN26_QUICKVIEW_VISUAL_1_5_0_SATL-2KM-11N_416_3862.txt\n",
      "20240423_190101_SN26_QUICKVIEW_VISUAL_1_5_0_SATL-2KM-11N_414_3862.txt\n",
      "20240420_181053_341939_MS_NS33_QUICKVIEW_VISUAL_1_3_0_SATL-2KM-10N_556_4180.txt\n",
      "20240418_213446_163074_MS_NS28_QUICKVIEW_VISUAL_1_3_0_SATL-2KM-11N_388_3748.txt\n",
      "20240417_215406_715231_MS_NS43_QUICKVIEW_VISUAL_1_3_0_SATL-2KM-10N_740_4446.txt\n",
      "20240412_191549_672087_MS_NS24_QUICKVIEW_VISUAL_1_3_0_SATL-2KM-11N_240_3966.txt\n",
      "20240412_191539_631044_MS_NS24_QUICKVIEW_VISUAL_1_3_0_SATL-2KM-11N_258_4036.txt\n",
      "20240412_191539_377035_MS_NS24_QUICKVIEW_VISUAL_1_3_0_SATL-2KM-11N_258_4038.txt\n",
      "20240412_052750_556466_MS_NS29_QUICKVIEW_VISUAL_1_3_0_SATL-2KM-51N_688_4420.txt\n",
      "20240410_214321_024179_MS_NS30_QUICKVIEW_VISUAL_1_3_0_SATL-2KM-11N_296_3786.txt\n",
      "20240410_214305_399233_MS_NS43_QUICKVIEW_VISUAL_1_3_0_SATL-2KM-11N_380_3764.txt\n",
      "20240408_211552_958249_MS_NS29_QUICKVIEW_VISUAL_1_3_0_SATL-2KM-11N_734_3742.txt\n",
      "20240407_190149_742846_MS_NS24_QUICKVIEW_VISUAL_1_3_0_SATL-2KM-11N_258_4028.txt\n",
      "20240405_183824_409694_MS_NS24_QUICKVIEW_VISUAL_1_3_0_SATL-2KM-11N_736_3716.txt\n",
      "20240402_215427_SN31_QUICKVIEW_VISUAL_1_2_0_SATL-2KM-11N_502_3600.txt\n",
      "20240402_215421_SN31_QUICKVIEW_VISUAL_1_2_0_SATL-2KM-11N_500_3632.txt\n",
      "20240402_184757_SN24_QUICKVIEW_VISUAL_1_2_0_SATL-2KM-11N_490_3638.txt\n",
      "20240402_184757_SN24_QUICKVIEW_VISUAL_1_2_0_SATL-2KM-11N_488_3638.txt\n",
      "20240402_184757_SN24_QUICKVIEW_VISUAL_1_2_0_SATL-2KM-11N_486_3636.txt\n",
      "20240402_184757_SN24_QUICKVIEW_VISUAL_1_2_0_SATL-2KM-11N_486_3630.txt\n",
      "20240401_221819_SN31_QUICKVIEW_VISUAL_1_2_0_SATL-2KM-10N_602_4148.txt\n",
      "20240401_175925_SN33_QUICKVIEW_VISUAL_1_2_0_SATL-2KM-10N_542_4168.txt\n",
      "20240401_175918_SN33_QUICKVIEW_VISUAL_1_2_0_SATL-2KM-10N_546_4206.txt\n",
      "20240401_175918_SN33_QUICKVIEW_VISUAL_1_2_0_SATL-2KM-10N_542_4168.txt\n",
      "20240401_032415_SN27_QUICKVIEW_VISUAL_1_2_0_SATL-2KM-51N_688_4420.txt\n",
      "20240325_173936_SN33_QUICKVIEW_VISUAL_1_2_0_SATL-2KM-11N_378_3722.txt\n",
      "20240324_180232_SN33_QUICKVIEW_VISUAL_1_2_0_SATL-2KM-10N_554_4172.txt\n",
      "20240322_212516_SN28_QUICKVIEW_VISUAL_1_2_0_SATL-2KM-11N_502_3600.txt\n",
      "20240322_184801_SN24_QUICKVIEW_VISUAL_1_2_0_SATL-2KM-11N_502_3632.txt\n",
      "20240322_184801_SN24_QUICKVIEW_VISUAL_1_2_0_SATL-2KM-11N_500_3632.txt\n",
      "20240321_220846_SN31_QUICKVIEW_VISUAL_1_2_0_SATL-2KM-10N_560_4178.txt\n",
      "20240321_190819_SN27_QUICKVIEW_VISUAL_1_2_0_SATL-2KM-11N_714_3632.txt\n",
      "20240317_221229_SN31_QUICKVIEW_VISUAL_1_2_0_SATL-2KM-10N_556_4176.txt\n",
      "20240317_215115_SN28_QUICKVIEW_VISUAL_1_2_0_SATL-2KM-10N_554_4162.txt\n",
      "20240317_215115_SN28_QUICKVIEW_VISUAL_1_2_0_SATL-2KM-10N_552_4164.txt\n",
      "20240317_215115_SN28_QUICKVIEW_VISUAL_1_2_0_SATL-2KM-10N_552_4162.txt\n",
      "20240316_191451_SN26_QUICKVIEW_VISUAL_1_2_0_SATL-2KM-11N_380_3764.txt\n",
      "20240314_220020_SN30_QUICKVIEW_VISUAL_1_2_0_SATL-2KM-10N_550_4202.txt\n",
      "20240314_220020_SN30_QUICKVIEW_VISUAL_1_2_0_SATL-2KM-10N_544_4186.txt\n",
      "20240308_211248_SN29_QUICKVIEW_VISUAL_1_2_0_SATL-2KM-11N_718_3640.txt\n",
      "20240308_191212_SN27_QUICKVIEW_VISUAL_1_2_0_SATL-2KM-11N_506_3614.txt\n",
      "20240304_212824_SN30_QUICKVIEW_VISUAL_1_2_0_SATL-2KM-11N_378_3722.txt\n",
      "20240228_213951_SN29_QUICKVIEW_VISUAL_1_1_10_SATL-2KM-11N_248_4068.txt\n",
      "20240227_214218_SN30_QUICKVIEW_VISUAL_1_1_10_SATL-2KM-10N_562_4170.txt\n",
      "20240224_214855_SN30_QUICKVIEW_VISUAL_1_1_10_SATL-2KM-10N_554_4162.txt\n",
      "20240224_214855_SN30_QUICKVIEW_VISUAL_1_1_10_SATL-2KM-10N_552_4162.txt\n",
      "20240223_025420_SN24_QUICKVIEW_VISUAL_1_1_10_SATL-2KM-51N_686_4422.txt\n",
      "20240222_212250_SN30_QUICKVIEW_VISUAL_1_1_10_SATL-2KM-11N_382_3722.txt\n",
      "20240222_074256_SN26_QUICKVIEW_VISUAL_1_1_10_SATL-2KM-39N_564_2790.txt\n",
      "20240222_074155_SN26_QUICKVIEW_VISUAL_1_1_10_SATL-2KM-39N_562_2794.txt\n",
      "20240222_074155_SN26_QUICKVIEW_VISUAL_1_1_10_SATL-2KM-39N_562_2792.txt\n",
      "20240222_074155_SN26_QUICKVIEW_VISUAL_1_1_10_SATL-2KM-39N_560_2792.txt\n",
      "20240222_074155_SN26_QUICKVIEW_VISUAL_1_1_10_SATL-2KM-39N_558_2794.txt\n",
      "20240222_074155_SN26_QUICKVIEW_VISUAL_1_1_10_SATL-2KM-39N_556_2794.txt\n",
      "20240222_074155_SN26_QUICKVIEW_VISUAL_1_1_10_SATL-2KM-39N_556_2792.txt\n",
      "20240222_074151_SN26_QUICKVIEW_VISUAL_1_1_10_SATL-2KM-39N_562_2794.txt\n",
      "20240222_074151_SN26_QUICKVIEW_VISUAL_1_1_10_SATL-2KM-39N_560_2796.txt\n",
      "20240222_074151_SN26_QUICKVIEW_VISUAL_1_1_10_SATL-2KM-39N_560_2794.txt\n",
      "20240222_074151_SN26_QUICKVIEW_VISUAL_1_1_10_SATL-2KM-39N_558_2796.txt\n",
      "20240222_074151_SN26_QUICKVIEW_VISUAL_1_1_10_SATL-2KM-39N_556_2794.txt\n",
      "20240221_190608_SN26_QUICKVIEW_VISUAL_1_1_10_SATL-2KM-11N_380_3764.txt\n",
      "20240220_190455_SN27_QUICKVIEW_VISUAL_1_1_10_SATL-2KM-11N_718_3608.txt\n",
      "20240219_214312_SN28_QUICKVIEW_VISUAL_1_1_10_SATL-2KM-11N_252_3954.txt\n",
      "20240218_180121_SN33_QUICKVIEW_VISUAL_1_1_10_SATL-2KM-10N_568_4176.txt\n",
      "20240216_213630_SN31_QUICKVIEW_VISUAL_1_1_10_SATL-2KM-11N_418_3724.txt\n",
      "20240214_184340_SN24_QUICKVIEW_VISUAL_1_1_10_SATL-2KM-11N_688_3630.txt\n",
      "20240213_212524_SN29_QUICKVIEW_VISUAL_1_1_10_SATL-2KM-11N_544_3742.txt\n",
      "20240213_212524_SN29_QUICKVIEW_VISUAL_1_1_10_SATL-2KM-11N_542_3750.txt\n",
      "20240213_212524_SN29_QUICKVIEW_VISUAL_1_1_10_SATL-2KM-11N_540_3748.txt\n",
      "20240212_213506_SN31_QUICKVIEW_VISUAL_1_1_10_SATL-2KM-11N_408_3712.txt\n",
      "20240211_211057_SN30_QUICKVIEW_VISUAL_1_1_10_SATL-2KM-11N_700_3690.txt\n",
      "20240209_212744_SN29_QUICKVIEW_VISUAL_1_1_10_SATL-2KM-11N_380_3722.txt\n",
      "20240208_184650_SN24_QUICKVIEW_VISUAL_1_1_10_SATL-2KM-11N_624_3632.txt\n",
      "20240203_173953_SN33_QUICKVIEW_VISUAL_1_1_10_SATL-2KM-11N_368_3756.txt\n",
      "20240203_173953_SN33_QUICKVIEW_VISUAL_1_1_10_SATL-2KM-11N_366_3756.txt\n",
      "20240202_191114_SN27_QUICKVIEW_VISUAL_1_1_10_SATL-2KM-11N_718_3608.txt\n",
      "20240202_184725_SN24_QUICKVIEW_VISUAL_1_1_10_SATL-2KM-11N_624_3630.txt\n",
      "20240201_075143_SN26_QUICKVIEW_VISUAL_1_1_10_SATL-2KM-39N_562_2788.txt\n",
      "20240201_075143_SN26_QUICKVIEW_VISUAL_1_1_10_SATL-2KM-39N_556_2792.txt\n",
      "20240201_075140_SN26_QUICKVIEW_VISUAL_1_1_10_SATL-2KM-39N_562_2794.txt\n",
      "20240201_075140_SN26_QUICKVIEW_VISUAL_1_1_10_SATL-2KM-39N_562_2792.txt\n",
      "20240201_075140_SN26_QUICKVIEW_VISUAL_1_1_10_SATL-2KM-39N_560_2796.txt\n",
      "20240201_075140_SN26_QUICKVIEW_VISUAL_1_1_10_SATL-2KM-39N_560_2794.txt\n",
      "20240201_075140_SN26_QUICKVIEW_VISUAL_1_1_10_SATL-2KM-39N_560_2792.txt\n",
      "20240201_075140_SN26_QUICKVIEW_VISUAL_1_1_10_SATL-2KM-39N_558_2794.txt\n",
      "20240201_075140_SN26_QUICKVIEW_VISUAL_1_1_10_SATL-2KM-39N_556_2794.txt\n",
      "20240201_075140_SN26_QUICKVIEW_VISUAL_1_1_10_SATL-2KM-39N_556_2792.txt\n",
      "20240130_215036_SN31_QUICKVIEW_VISUAL_1_1_10_SATL-2KM-11N_366_3756.txt\n",
      "20240130_173903_SN33_QUICKVIEW_VISUAL_1_1_10_SATL-2KM-11N_366_3756.txt\n",
      "20240130_173903_SN33_QUICKVIEW_VISUAL_1_1_10_SATL-2KM-11N_364_3754.txt\n",
      "20240130_173903_SN33_QUICKVIEW_VISUAL_1_1_10_SATL-2KM-11N_360_3748.txt\n",
      "20240128_213258_SN29_QUICKVIEW_VISUAL_1_1_10_SATL-2KM-11N_418_3864.txt\n",
      "20240128_213258_SN29_QUICKVIEW_VISUAL_1_1_10_SATL-2KM-11N_418_3862.txt\n",
      "20240127_190620_SN27_QUICKVIEW_VISUAL_1_1_10_SATL-2KM-11N_502_3602.txt\n",
      "20240127_190620_SN27_QUICKVIEW_VISUAL_1_1_10_SATL-2KM-11N_502_3600.txt\n",
      "20240127_190620_SN27_QUICKVIEW_VISUAL_1_1_10_SATL-2KM-11N_500_3602.txt\n",
      "20240127_190620_SN27_QUICKVIEW_VISUAL_1_1_10_SATL-2KM-11N_500_3600.txt\n",
      "20240126_173752_SN33_QUICKVIEW_VISUAL_1_1_10_SATL-2KM-11N_386_3722.txt\n",
      "20240115_213834_SN28_QUICKVIEW_VISUAL_1_1_10_SATL-2KM-11N_380_3724.txt\n",
      "20240115_213834_SN28_QUICKVIEW_VISUAL_1_1_10_SATL-2KM-11N_376_3722.txt\n",
      "20240112_192510_SN27_QUICKVIEW_VISUAL_1_1_10_SATL-2KM-11N_386_3750.txt\n",
      "20240110_192002_SN27_QUICKVIEW_VISUAL_1_1_10_SATL-2KM-11N_380_3728.txt\n",
      "20240104_220339_SN31_QUICKVIEW_VISUAL_1_1_10_SATL-2KM-10N_556_4178.txt\n",
      "20240102_185954_SN24_QUICKVIEW_VISUAL_1_1_10_SATL-2KM-11N_414_3786.txt\n",
      "20240102_185605_SN27_QUICKVIEW_VISUAL_1_1_10_SATL-2KM-11N_690_3572.txt\n",
      "20240102_185527_SN27_QUICKVIEW_VISUAL_1_1_10_SATL-2KM-11N_740_3850.txt\n",
      "20240101_213601_SN31_QUICKVIEW_VISUAL_1_1_10_SATL-2KM-11N_396_3752.txt\n",
      "20240101_213601_SN31_QUICKVIEW_VISUAL_1_1_10_SATL-2KM-11N_392_3742.txt\n",
      "20240101_213601_SN31_QUICKVIEW_VISUAL_1_1_10_SATL-2KM-11N_392_3740.txt\n",
      "20240101_192856_SN24_QUICKVIEW_VISUAL_1_1_10_SATL-2KM-10N_554_4162.txt\n",
      "20240101_192856_SN24_QUICKVIEW_VISUAL_1_1_10_SATL-2KM-10N_552_4164.txt\n",
      "20240101_192856_SN24_QUICKVIEW_VISUAL_1_1_10_SATL-2KM-10N_552_4162.txt\n",
      "20240101_174301_SN33_QUICKVIEW_VISUAL_1_1_10_SATL-2KM-11N_404_3772.txt\n",
      "20240101_174301_SN33_QUICKVIEW_VISUAL_1_1_10_SATL-2KM-11N_404_3770.txt\n"
     ]
    }
   ],
   "source": [
    "#Need to sort in reverse to get most recent at the top\n",
    "annotations.sort(reverse=True)\n",
    "for file in annotations:\n",
    "    print(file)"
   ]
  },
  {
   "cell_type": "markdown",
   "metadata": {},
   "source": [
    "Exercise 6"
   ]
  },
  {
   "cell_type": "code",
   "execution_count": 18,
   "metadata": {},
   "outputs": [
    {
     "name": "stdout",
     "output_type": "stream",
     "text": [
      "SN29: 22 annotations\n",
      "SN43: 11 annotations\n",
      "SN27: 29 annotations\n",
      "SN24: 26 annotations\n",
      "SN30: 18 annotations\n",
      "SN31: 19 annotations\n",
      "SN28: 16 annotations\n",
      "SN33: 16 annotations\n",
      "SN26: 37 annotations\n",
      "NS33: 1 annotations\n",
      "NS28: 1 annotations\n",
      "NS43: 2 annotations\n",
      "NS24: 5 annotations\n",
      "NS29: 2 annotations\n",
      "NS30: 1 annotations\n",
      "Most recent satellite: SN29\n"
     ]
    }
   ],
   "source": [
    "satellite_dict = {}\n",
    "\n",
    "for file in annotations:\n",
    "    parts = file.split('_')\n",
    "    if len(parts) >= 3 and parts[2].startswith('SN'):\n",
    "        satellite = parts[2]\n",
    "        if satellite in satellite_dict:\n",
    "            satellite_dict[satellite] += 1\n",
    "        else:\n",
    "            satellite_dict[satellite] = 1\n",
    "    #Accouunt for different formatting\n",
    "    else:\n",
    "        satellite = parts[4]\n",
    "        if satellite in satellite_dict:\n",
    "            satellite_dict[satellite] += 1\n",
    "        else:\n",
    "            satellite_dict[satellite] = 1\n",
    "\n",
    "# Print satellite counts\n",
    "for sat, count in satellite_dict.items():\n",
    "    print(f\"{sat}: {count} annotations\")\n",
    "\n",
    "# Find the most recent satellite\n",
    "most_recent_satellite = sorted_annotations[0].split('_')[2]\n",
    "print(f\"Most recent satellite: {most_recent_satellite}\")"
   ]
  },
  {
   "cell_type": "markdown",
   "metadata": {},
   "source": [
    "Exercise 7"
   ]
  },
  {
   "cell_type": "code",
   "execution_count": 20,
   "metadata": {},
   "outputs": [
    {
     "name": "stdout",
     "output_type": "stream",
     "text": [
      "Unique regions: 146\n"
     ]
    }
   ],
   "source": [
    "unique_regions = set()\n",
    "\n",
    "for file in annotations:\n",
    "    parts = file.split('_')\n",
    "    region = '_'.join(parts[-3:]).replace('.txt', '')\n",
    "    unique_regions.add(region)\n",
    "\n",
    "unique_regions_count = len(unique_regions)\n",
    "print(f\"Unique regions: {unique_regions_count}\")"
   ]
  }
 ],
 "metadata": {
  "kernelspec": {
   "display_name": "base",
   "language": "python",
   "name": "python3"
  },
  "language_info": {
   "codemirror_mode": {
    "name": "ipython",
    "version": 3
   },
   "file_extension": ".py",
   "mimetype": "text/x-python",
   "name": "python",
   "nbconvert_exporter": "python",
   "pygments_lexer": "ipython3",
   "version": "3.12.4"
  }
 },
 "nbformat": 4,
 "nbformat_minor": 2
}
